{
 "cells": [
  {
   "cell_type": "markdown",
   "id": "4918f0a8-d1aa-4148-8eb5-0a32d1d452a9",
   "metadata": {},
   "source": [
    "# Performance Benchmarking"
   ]
  },
  {
   "cell_type": "markdown",
   "id": "71d1934b-2d63-4346-9e94-c093dc0b93e7",
   "metadata": {},
   "source": [
    "**Yuning Zhang, TU Delft, 2021.10.27**"
   ]
  },
  {
   "cell_type": "code",
   "execution_count": 10,
   "id": "86e4849b",
   "metadata": {},
   "outputs": [],
   "source": [
    "using Random"
   ]
  },
  {
   "cell_type": "markdown",
   "id": "de9e6576",
   "metadata": {},
   "source": [
    "### Allocate a large sequence of random locations "
   ]
  },
  {
   "cell_type": "code",
   "execution_count": null,
   "id": "6431b4fa",
   "metadata": {},
   "outputs": [],
   "source": [
    "function _rand_loc_spherical(r_max=1.0::Real, r_min=0.0::Real; projection=:false)\n",
    "    r=rand()*(r_max-r_min)+r_min\n",
    "    ϕ=rand()*2pi\n",
    "    if projection\n",
    "        θ=pi/2\n",
    "    else\n",
    "        θ=rand()*pi\n",
    "    end\n",
    "    [r*sin(θ)*cos(ϕ),r*sin(θ)*sin(ϕ),r*cos(θ)]\n",
    "end"
   ]
  },
  {
   "cell_type": "code",
   "execution_count": null,
   "id": "6496564a",
   "metadata": {},
   "outputs": [
    {
     "name": "stdout",
     "output_type": "stream",
     "text": [
      "  0.122624 seconds (1.04 M allocations: 116.910 MiB, 19.80% compilation time)\n"
     ]
    }
   ],
   "source": [
    "@time collect(_rand_loc_spherical() for i in 1:10^6);"
   ]
  },
  {
   "cell_type": "code",
   "execution_count": 21,
   "id": "2f58d60e",
   "metadata": {},
   "outputs": [
    {
     "data": {
      "text/plain": [
       "rand_locs_spherical (generic function with 3 methods)"
      ]
     },
     "execution_count": 21,
     "metadata": {},
     "output_type": "execute_result"
    }
   ],
   "source": [
    "function rand_locs_spherical(r_max=1.0::Real, r_min=0.0::Real; N=1::Int, projection=:false)\n",
    "    M=zeros(N,3)\n",
    "    r=rand(N).*(r_max-r_min).+r_min\n",
    "    ϕ=rand(N).*2pi\n",
    "    if projection\n",
    "        θ=ones(N).*pi/2\n",
    "    else\n",
    "        θ=rand(N).*pi\n",
    "    end\n",
    "    collect(zip(r.*sin.(θ).*cos.(ϕ),r.*sin.(θ).*sin.(ϕ),r.*cos.(θ)))\n",
    "end"
   ]
  },
  {
   "cell_type": "code",
   "execution_count": 31,
   "id": "7a3e27ea",
   "metadata": {},
   "outputs": [
    {
     "name": "stdout",
     "output_type": "stream",
     "text": [
      "  0.072342 seconds (22 allocations: 114.442 MiB, 2.49% gc time)\n"
     ]
    }
   ],
   "source": [
    "M=@time rand_locs_spherical(N=10^6);"
   ]
  },
  {
   "cell_type": "code",
   "execution_count": 32,
   "id": "49c8d0b6",
   "metadata": {},
   "outputs": [
    {
     "data": {
      "text/plain": [
       "rand_locs_spherical (generic function with 3 methods)"
      ]
     },
     "execution_count": 32,
     "metadata": {},
     "output_type": "execute_result"
    }
   ],
   "source": [
    "function rand_locs_spherical(r_max=1.0::Real, r_min=0.0::Real; N=1::Int, projection=:false)\n",
    "    M=zeros(N,3)\n",
    "    r=rand(N).*(r_max-r_min).+r_min\n",
    "    ϕ=rand(N).*2pi\n",
    "    if projection\n",
    "        θ=ones(N).*pi/2\n",
    "    else\n",
    "        θ=rand(N).*pi\n",
    "    end\n",
    "    \n",
    "    M[:,1]=r.*sin.(θ).*cos.(ϕ)\n",
    "    M[:,2]=r.*sin.(θ).*sin.(ϕ)\n",
    "    M[:,3]=r.*cos.(θ)\n",
    "\n",
    "    M\n",
    "end"
   ]
  },
  {
   "cell_type": "code",
   "execution_count": 36,
   "id": "177ba423",
   "metadata": {},
   "outputs": [
    {
     "name": "stdout",
     "output_type": "stream",
     "text": [
      "  0.064265 seconds (20 allocations: 91.553 MiB, 1.57% gc time)\n"
     ]
    }
   ],
   "source": [
    "M=@time rand_locs_spherical(N=10^6);"
   ]
  },
  {
   "cell_type": "code",
   "execution_count": 37,
   "id": "019ba7f0",
   "metadata": {},
   "outputs": [
    {
     "data": {
      "text/plain": [
       "Matrix{Float64} (alias for Array{Float64, 2})"
      ]
     },
     "execution_count": 37,
     "metadata": {},
     "output_type": "execute_result"
    }
   ],
   "source": [
    "typeof(M)"
   ]
  },
  {
   "cell_type": "markdown",
   "id": "c8190c77",
   "metadata": {},
   "source": [
    "**Conclusion1, it's better to use vectorized approach**"
   ]
  },
  {
   "cell_type": "code",
   "execution_count": 6,
   "id": "a4504c60",
   "metadata": {},
   "outputs": [
    {
     "data": {
      "text/plain": [
       "rand_locs_cubic (generic function with 1 method)"
      ]
     },
     "execution_count": 6,
     "metadata": {},
     "output_type": "execute_result"
    }
   ],
   "source": [
    "function rand_locs_cubic(a::Real, b::Real; N=1, projection=:false)\n",
    "    M=zeros(N,3)\n",
    "    if projection\n",
    "        for i in 1:N\n",
    "            M[i,:]=rand([-1,1],3).*rand(3).*(b-a).+a\n",
    "        end\n",
    "    else\n",
    "        for i in 1:N\n",
    "            M[i,1:2]=rand([-1,1],2).*rand(2).*(b-a).+a\n",
    "        end\n",
    "    end\n",
    "end"
   ]
  },
  {
   "cell_type": "code",
   "execution_count": 7,
   "id": "59522697",
   "metadata": {},
   "outputs": [
    {
     "name": "stdout",
     "output_type": "stream",
     "text": [
      "  0.237117 seconds (4.00 M allocations: 434.891 MiB, 29.62% gc time)\n"
     ]
    }
   ],
   "source": [
    "@time rand_locs_cubic(1,0,N=10^6,projection=:true)"
   ]
  },
  {
   "cell_type": "code",
   "execution_count": 8,
   "id": "ef380827",
   "metadata": {},
   "outputs": [
    {
     "name": "stdout",
     "output_type": "stream",
     "text": [
      "  0.240182 seconds (4.00 M allocations: 389.099 MiB, 30.89% gc time)\n"
     ]
    }
   ],
   "source": [
    "@time rand_locs_cubic(1,0,N=10^6,projection=:false)"
   ]
  },
  {
   "cell_type": "code",
   "execution_count": 21,
   "id": "37332101",
   "metadata": {},
   "outputs": [
    {
     "data": {
      "text/plain": [
       "rand_locs_cubic (generic function with 1 method)"
      ]
     },
     "execution_count": 21,
     "metadata": {},
     "output_type": "execute_result"
    }
   ],
   "source": [
    "function rand_locs_cubic(a::Real, b::Real; N=1, projection=:false)\n",
    "    M=zeros(N,3)\n",
    "    rand!(M,[1,-1])\n",
    "    M.*=rand(N,3).*(b-a).+a\n",
    "    if projection\n",
    "        M[:,end].=0.0\n",
    "    end\n",
    "    M\n",
    "end"
   ]
  },
  {
   "cell_type": "code",
   "execution_count": 35,
   "id": "0a032734",
   "metadata": {},
   "outputs": [
    {
     "name": "stdout",
     "output_type": "stream",
     "text": [
      "  0.001701 seconds (5 allocations: 4.578 MiB)\n"
     ]
    }
   ],
   "source": [
    "@time rand_locs_cubic(1,0,N=10^5);"
   ]
  },
  {
   "cell_type": "code",
   "execution_count": 34,
   "id": "5781e52d",
   "metadata": {},
   "outputs": [
    {
     "name": "stdout",
     "output_type": "stream",
     "text": [
      "  0.028170 seconds (5 allocations: 45.777 MiB, 4.26% gc time)\n"
     ]
    }
   ],
   "source": [
    "@time rand_locs_cubic(1,0,N=10^6,projection=:true);"
   ]
  },
  {
   "cell_type": "markdown",
   "id": "20ec9b85",
   "metadata": {},
   "source": [
    "**Conclusion2, Use less allocations to reduce garbage collection time**"
   ]
  },
  {
   "cell_type": "code",
   "execution_count": 68,
   "id": "9822f971",
   "metadata": {},
   "outputs": [
    {
     "data": {
      "text/plain": [
       "rand_locs (generic function with 1 method)"
      ]
     },
     "execution_count": 68,
     "metadata": {},
     "output_type": "execute_result"
    }
   ],
   "source": [
    "rand_locs(N::Int,dim::Int,a::Real)=a*[rand(Float64,dim).-1/2 for i in 1:N]"
   ]
  },
  {
   "cell_type": "code",
   "execution_count": 69,
   "id": "bd4d9041",
   "metadata": {},
   "outputs": [
    {
     "name": "stdout",
     "output_type": "stream",
     "text": [
      "  0.243390 seconds (3.00 M allocations: 335.694 MiB, 36.95% gc time)\n"
     ]
    }
   ],
   "source": [
    "M=@time rand_locs(10^6,3,2);"
   ]
  },
  {
   "cell_type": "code",
   "execution_count": 70,
   "id": "c77a2838",
   "metadata": {},
   "outputs": [
    {
     "data": {
      "text/plain": [
       "Vector{Vector{Float64}} (alias for Array{Array{Float64, 1}, 1})"
      ]
     },
     "execution_count": 70,
     "metadata": {},
     "output_type": "execute_result"
    }
   ],
   "source": [
    "typeof(M)"
   ]
  },
  {
   "cell_type": "code",
   "execution_count": 75,
   "id": "0fe97d4b",
   "metadata": {},
   "outputs": [
    {
     "data": {
      "text/plain": [
       "rand_locs (generic function with 1 method)"
      ]
     },
     "execution_count": 75,
     "metadata": {},
     "output_type": "execute_result"
    }
   ],
   "source": [
    "function rand_locs(N::Int,dim::Int,a::Real)\n",
    "    M=zeros(N,dim)\n",
    "    rand!(zeros(N,dim))\n",
    "    a*M.-1/2\n",
    "end"
   ]
  },
  {
   "cell_type": "code",
   "execution_count": 76,
   "id": "956499ca",
   "metadata": {},
   "outputs": [
    {
     "name": "stdout",
     "output_type": "stream",
     "text": [
      "  0.028047 seconds (8 allocations: 91.553 MiB)\n"
     ]
    }
   ],
   "source": [
    "@time rand_locs(10^6,3,2);"
   ]
  },
  {
   "cell_type": "code",
   "execution_count": 77,
   "id": "ed4d8069",
   "metadata": {},
   "outputs": [
    {
     "data": {
      "text/plain": [
       "rand_locs (generic function with 1 method)"
      ]
     },
     "execution_count": 77,
     "metadata": {},
     "output_type": "execute_result"
    }
   ],
   "source": [
    "function rand_locs(N::Int,dim::Int,a::Real)\n",
    "    a*rand!(zeros(N,dim)).-1/2\n",
    "end"
   ]
  },
  {
   "cell_type": "code",
   "execution_count": 78,
   "id": "68589814",
   "metadata": {},
   "outputs": [
    {
     "name": "stdout",
     "output_type": "stream",
     "text": [
      "  0.019772 seconds (6 allocations: 68.665 MiB)\n"
     ]
    }
   ],
   "source": [
    "@time rand_locs(10^6,3,2);"
   ]
  },
  {
   "cell_type": "code",
   "execution_count": 79,
   "id": "7c2289a6",
   "metadata": {},
   "outputs": [
    {
     "data": {
      "text/plain": [
       "Vector{Vector{Float64}} (alias for Array{Array{Float64, 1}, 1})"
      ]
     },
     "execution_count": 79,
     "metadata": {},
     "output_type": "execute_result"
    }
   ],
   "source": [
    "typeof(M)"
   ]
  },
  {
   "cell_type": "markdown",
   "id": "5eb0fc68",
   "metadata": {},
   "source": [
    "**Conclusion 3. Generate a matrix is more efficnent compared with Array{Array{Float64}}. Use eachrow as generator.**"
   ]
  },
  {
   "cell_type": "code",
   "execution_count": 83,
   "id": "59688634",
   "metadata": {},
   "outputs": [
    {
     "data": {
      "text/plain": [
       "rand_locs_cubic (generic function with 1 method)"
      ]
     },
     "execution_count": 83,
     "metadata": {},
     "output_type": "execute_result"
    }
   ],
   "source": [
    "function rand_locs_cubic(a::Real, b::Real; N=1::Int, dim=3)\n",
    "    M=zeros(N,3)\n",
    "    rand!(@view(M[:,1:dim]),[1,-1])\n",
    "    @view(M[:,1]).*=rand(N).*(b-a).+a\n",
    "    if dim>1\n",
    "        @view(M[:,2:dim]).*=rand(N,dim-1).*b\n",
    "        for i in 1:N\n",
    "            shuffle!(@view M[i,1:dim])\n",
    "        end\n",
    "    end\n",
    "    M\n",
    "end"
   ]
  },
  {
   "cell_type": "code",
   "execution_count": 85,
   "id": "6df434a7",
   "metadata": {},
   "outputs": [
    {
     "name": "stdout",
     "output_type": "stream",
     "text": [
      "  0.036026 seconds (7 allocations: 38.147 MiB)\n"
     ]
    }
   ],
   "source": [
    "@time rand_locs_cubic(2,1,N=10^6,dim=2);"
   ]
  },
  {
   "cell_type": "markdown",
   "id": "e16bbef7",
   "metadata": {},
   "source": [
    "## Test Performane of the ensemble FID"
   ]
  },
  {
   "cell_type": "markdown",
   "id": "07c7a3ed",
   "metadata": {},
   "source": []
  }
 ],
 "metadata": {
  "kernelspec": {
   "display_name": "Julia 1.6.2",
   "language": "julia",
   "name": "julia-1.6"
  },
  "language_info": {
   "file_extension": ".jl",
   "mimetype": "application/julia",
   "name": "julia",
   "version": "1.6.3"
  }
 },
 "nbformat": 4,
 "nbformat_minor": 5
}
