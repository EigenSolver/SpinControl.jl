{
 "cells": [
  {
   "cell_type": "markdown",
   "id": "4918f0a8-d1aa-4148-8eb5-0a32d1d452a9",
   "metadata": {},
   "source": [
    "# Performance Benchmarking"
   ]
  },
  {
   "cell_type": "markdown",
   "id": "71d1934b-2d63-4346-9e94-c093dc0b93e7",
   "metadata": {},
   "source": [
    "**Yuning Zhang, TU Delft, 2021.10.27**"
   ]
  },
  {
   "cell_type": "code",
   "execution_count": null,
   "id": "86e4849b",
   "metadata": {},
   "outputs": [],
   "source": [
    "using Random"
   ]
  },
  {
   "cell_type": "markdown",
   "id": "de9e6576",
   "metadata": {},
   "source": [
    "### Allocate a large sequence of random locations "
   ]
  },
  {
   "cell_type": "code",
   "execution_count": null,
   "id": "6431b4fa",
   "metadata": {},
   "outputs": [],
   "source": [
    "function _rand_loc_spherical(r_max=1.0::Real, r_min=0.0::Real; projection=:false)\n",
    "    r=rand()*(r_max-r_min)+r_min\n",
    "    ϕ=rand()*2pi\n",
    "    if projection\n",
    "        θ=pi/2\n",
    "    else\n",
    "        θ=rand()*pi\n",
    "    end\n",
    "    [r*sin(θ)*cos(ϕ),r*sin(θ)*sin(ϕ),r*cos(θ)]\n",
    "end"
   ]
  },
  {
   "cell_type": "code",
   "execution_count": null,
   "id": "6496564a",
   "metadata": {},
   "outputs": [
    {
     "name": "stdout",
     "output_type": "stream",
     "text": [
      "  0.122624 seconds (1.04 M allocations: 116.910 MiB, 19.80% compilation time)\n"
     ]
    }
   ],
   "source": [
    "@time collect(_rand_loc_spherical() for i in 1:10^6);"
   ]
  },
  {
   "cell_type": "code",
   "execution_count": null,
   "id": "2f58d60e",
   "metadata": {},
   "outputs": [],
   "source": [
    "function rand_locs_spherical(r_max=1.0::Real, r_min=0.0::Real; N=1::Int, projection=:false)\n",
    "    r=rand(N).*(r_max-r_min).+r_min\n",
    "    ϕ=rand(N).*2pi\n",
    "    if projection\n",
    "        θ=ones(N).*pi/2\n",
    "    else\n",
    "        θ=rand(N).*pi\n",
    "    end\n",
    "    collect(zip(r.*sin.(θ).*cos.(ϕ),r.*sin.(θ).*sin.(ϕ),r.*cos.(θ)))\n",
    "end"
   ]
  },
  {
   "cell_type": "code",
   "execution_count": 33,
   "id": "7a3e27ea",
   "metadata": {},
   "outputs": [
    {
     "name": "stdout",
     "output_type": "stream",
     "text": [
      "  0.063351 seconds (20 allocations: 91.553 MiB, 2.87% gc time)\n"
     ]
    }
   ],
   "source": [
    "@time rand_locs_spherical(N=10^6);"
   ]
  },
  {
   "cell_type": "markdown",
   "id": "c8190c77",
   "metadata": {},
   "source": [
    "**Conclusion1, it's better to use vectorized approach**"
   ]
  },
  {
   "cell_type": "code",
   "execution_count": null,
   "id": "8f289803",
   "metadata": {},
   "outputs": [],
   "source": [
    "function rand_locs_spherical(r_max=1.0::Real, r_min=0.0::Real; N=1::Int, projection=:false)\n",
    "    M=zeros()\n",
    "    M[:,1]=rand(N).*(r_max-r_min).+r_min\n",
    "    M[:,2]=rand(N).*2pi\n",
    "    if projection\n",
    "        M[:,3]=ones(N).*pi/2\n",
    "    else\n",
    "        θ=rand(N).*pi\n",
    "    end\n",
    "    collect(zip(r.*sin.(θ).*cos.(ϕ),r.*sin.(θ).*sin.(ϕ),r.*cos.(θ)))\n",
    "end"
   ]
  },
  {
   "cell_type": "code",
   "execution_count": 6,
   "id": "a4504c60",
   "metadata": {},
   "outputs": [
    {
     "data": {
      "text/plain": [
       "rand_locs_cubic (generic function with 1 method)"
      ]
     },
     "execution_count": 6,
     "metadata": {},
     "output_type": "execute_result"
    }
   ],
   "source": [
    "function rand_locs_cubic(a::Real, b::Real; N=1, projection=:false)\n",
    "    M=zeros(N,3)\n",
    "    if projection\n",
    "        for i in 1:N\n",
    "            M[i,:]=rand([-1,1],3).*rand(3).*(b-a).+a\n",
    "        end\n",
    "    else\n",
    "        for i in 1:N\n",
    "            M[i,1:2]=rand([-1,1],2).*rand(2).*(b-a).+a\n",
    "        end\n",
    "    end\n",
    "end"
   ]
  },
  {
   "cell_type": "code",
   "execution_count": 7,
   "id": "59522697",
   "metadata": {},
   "outputs": [
    {
     "name": "stdout",
     "output_type": "stream",
     "text": [
      "  0.237117 seconds (4.00 M allocations: 434.891 MiB, 29.62% gc time)\n"
     ]
    }
   ],
   "source": [
    "@time rand_locs_cubic(1,0,N=10^6,projection=:true)"
   ]
  },
  {
   "cell_type": "code",
   "execution_count": 8,
   "id": "ef380827",
   "metadata": {},
   "outputs": [
    {
     "name": "stdout",
     "output_type": "stream",
     "text": [
      "  0.240182 seconds (4.00 M allocations: 389.099 MiB, 30.89% gc time)\n"
     ]
    }
   ],
   "source": [
    "@time rand_locs_cubic(1,0,N=10^6,projection=:false)"
   ]
  },
  {
   "cell_type": "code",
   "execution_count": 21,
   "id": "37332101",
   "metadata": {},
   "outputs": [
    {
     "data": {
      "text/plain": [
       "rand_locs_cubic (generic function with 1 method)"
      ]
     },
     "execution_count": 21,
     "metadata": {},
     "output_type": "execute_result"
    }
   ],
   "source": [
    "function rand_locs_cubic(a::Real, b::Real; N=1, projection=:false)\n",
    "    M=zeros(N,3)\n",
    "    rand!(M,[1,-1])\n",
    "    M.*=rand(N,3).*(b-a).+a\n",
    "    if projection\n",
    "        M[:,end].=0.0\n",
    "    end\n",
    "    M\n",
    "end"
   ]
  },
  {
   "cell_type": "code",
   "execution_count": 35,
   "id": "0a032734",
   "metadata": {},
   "outputs": [
    {
     "name": "stdout",
     "output_type": "stream",
     "text": [
      "  0.001701 seconds (5 allocations: 4.578 MiB)\n"
     ]
    }
   ],
   "source": [
    "@time rand_locs_cubic(1,0,N=10^5);"
   ]
  },
  {
   "cell_type": "code",
   "execution_count": 34,
   "id": "5781e52d",
   "metadata": {},
   "outputs": [
    {
     "name": "stdout",
     "output_type": "stream",
     "text": [
      "  0.028170 seconds (5 allocations: 45.777 MiB, 4.26% gc time)\n"
     ]
    }
   ],
   "source": [
    "@time rand_locs_cubic(1,0,N=10^6,projection=:true);"
   ]
  },
  {
   "cell_type": "markdown",
   "id": "20ec9b85",
   "metadata": {},
   "source": [
    "**Conclusion2, Use less allocations to reduce garbage collection time**"
   ]
  },
  {
   "cell_type": "markdown",
   "id": "3a6176fc",
   "metadata": {},
   "source": []
  }
 ],
 "metadata": {
  "kernelspec": {
   "display_name": "Julia 1.6.2",
   "language": "julia",
   "name": "julia-1.6"
  },
  "language_info": {
   "file_extension": ".jl",
   "mimetype": "application/julia",
   "name": "julia",
   "version": "1.6.3"
  }
 },
 "nbformat": 4,
 "nbformat_minor": 5
}
