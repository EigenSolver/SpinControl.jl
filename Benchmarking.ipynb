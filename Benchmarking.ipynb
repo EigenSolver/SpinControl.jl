{
 "cells": [
  {
   "cell_type": "markdown",
   "id": "4918f0a8-d1aa-4148-8eb5-0a32d1d452a9",
   "metadata": {},
   "source": [
    "# Performance Benchmarking"
   ]
  },
  {
   "cell_type": "markdown",
   "id": "71d1934b-2d63-4346-9e94-c093dc0b93e7",
   "metadata": {},
   "source": [
    "**Yuning Zhang, TU Delft, 2021.10.27**"
   ]
  },
  {
   "cell_type": "code",
   "execution_count": 1,
   "id": "9d62f685-1507-430f-a6b9-b6b6b722687d",
   "metadata": {},
   "outputs": [
    {
     "data": {
      "text/plain": [
       "_rand_loc_spherical (generic function with 3 methods)"
      ]
     },
     "execution_count": 1,
     "metadata": {},
     "output_type": "execute_result"
    }
   ],
   "source": [
    "# include(\"SpinEnsemble.jl\")\n",
    "include(\"RandLoctions.jl\")"
   ]
  },
  {
   "cell_type": "markdown",
   "id": "de9e6576",
   "metadata": {},
   "source": [
    "### Allocate a large sequence of random locations "
   ]
  },
  {
   "cell_type": "code",
   "execution_count": 16,
   "id": "7a3e27ea",
   "metadata": {},
   "outputs": [
    {
     "name": "stdout",
     "output_type": "stream",
     "text": [
      "  0.007503 seconds (20 allocations: 9.156 MiB)\n"
     ]
    }
   ],
   "source": [
    "@time rand_locs_spherical(N=10^5);"
   ]
  },
  {
   "cell_type": "code",
   "execution_count": 14,
   "id": "6496564a",
   "metadata": {},
   "outputs": [
    {
     "name": "stdout",
     "output_type": "stream",
     "text": [
      "  0.036865 seconds (142.47 k allocations: 13.913 MiB, 75.49% compilation time)\n"
     ]
    }
   ],
   "source": [
    "@time collect(_rand_loc_spherical() for i in 1:10^5);"
   ]
  },
  {
   "cell_type": "markdown",
   "id": "c8190c77",
   "metadata": {},
   "source": [
    "**Conclusion, it's better to use vectorized approach, which brings 3x performance improvement**"
   ]
  },
  {
   "cell_type": "code",
   "execution_count": null,
   "id": "f16b6082-d927-47cd-972e-6bdb8488087b",
   "metadata": {},
   "outputs": [],
   "source": [
    "ensemble_FID(t::AbstractVector{<:Real},D::Vector{Float64})=map(x->ensemble_FID(x,D),t);"
   ]
  },
  {
   "cell_type": "code",
   "execution_count": null,
   "id": "bc88fe6e-d4ea-4314-9956-fd317a299465",
   "metadata": {},
   "outputs": [],
   "source": [
    "@time ensemble_FID"
   ]
  },
  {
   "cell_type": "code",
   "execution_count": null,
   "id": "7411e4aa-486c-45fd-b463-358d612dfb7f",
   "metadata": {},
   "outputs": [],
   "source": [
    "ensemble_FID(t::AbstractVector{<:Real},D::Vector{Float64})=mapreduce(cos.,*,D*t)/2;"
   ]
  }
 ],
 "metadata": {
  "kernelspec": {
   "display_name": "Julia 1.6.2",
   "language": "julia",
   "name": "julia-1.6"
  },
  "language_info": {
   "file_extension": ".jl",
   "mimetype": "application/julia",
   "name": "julia",
   "version": "1.6.3"
  }
 },
 "nbformat": 4,
 "nbformat_minor": 5
}
