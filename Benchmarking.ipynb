{
 "cells": [
  {
   "cell_type": "markdown",
   "id": "4918f0a8-d1aa-4148-8eb5-0a32d1d452a9",
   "metadata": {},
   "source": [
    "# Performance Benchmarking"
   ]
  },
  {
   "cell_type": "markdown",
   "id": "71d1934b-2d63-4346-9e94-c093dc0b93e7",
   "metadata": {},
   "source": [
    "**Yuning Zhang, TU Delft, 2021.10.27**"
   ]
  },
  {
   "cell_type": "code",
   "execution_count": 2,
   "id": "9d62f685-1507-430f-a6b9-b6b6b722687d",
   "metadata": {},
   "outputs": [
    {
     "data": {
      "text/plain": [
       "FID_plot_options"
      ]
     },
     "execution_count": 2,
     "metadata": {},
     "output_type": "execute_result"
    }
   ],
   "source": [
    "include(\"SpinEnsemble.jl\")"
   ]
  },
  {
   "cell_type": "code",
   "execution_count": 3,
   "id": "fe513794-51a1-44fa-a5c1-0b6abf4d54f6",
   "metadata": {},
   "outputs": [],
   "source": [
    "D=rand_bath_dipolar_coefs(500,3);"
   ]
  },
  {
   "cell_type": "code",
   "execution_count": null,
   "id": "f16b6082-d927-47cd-972e-6bdb8488087b",
   "metadata": {},
   "outputs": [],
   "source": [
    "ensemble_FID(t::AbstractVector{<:Real},D::Vector{Float64})=map(x->ensemble_FID(x,D),t);"
   ]
  },
  {
   "cell_type": "code",
   "execution_count": null,
   "id": "bc88fe6e-d4ea-4314-9956-fd317a299465",
   "metadata": {},
   "outputs": [],
   "source": [
    "@time ensemble_FID"
   ]
  },
  {
   "cell_type": "code",
   "execution_count": null,
   "id": "7411e4aa-486c-45fd-b463-358d612dfb7f",
   "metadata": {},
   "outputs": [],
   "source": [
    "ensemble_FID(t::AbstractVector{<:Real},D::Vector{Float64})=mapreduce(cos.,*,D*t)/2;"
   ]
  }
 ],
 "metadata": {
  "kernelspec": {
   "display_name": "Julia 1.6.2",
   "language": "julia",
   "name": "julia-1.6"
  },
  "language_info": {
   "file_extension": ".jl",
   "mimetype": "application/julia",
   "name": "julia",
   "version": "1.6.3"
  }
 },
 "nbformat": 4,
 "nbformat_minor": 5
}
