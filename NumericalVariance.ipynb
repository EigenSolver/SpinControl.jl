{
 "cells": [
  {
   "cell_type": "code",
   "execution_count": 5,
   "id": "2f5ce621-2215-421d-8490-8ae3dd2b8b40",
   "metadata": {},
   "outputs": [],
   "source": [
    "using Statistics"
   ]
  },
  {
   "cell_type": "code",
   "execution_count": 21,
   "id": "178745cd-f54d-400f-9273-173855e592c6",
   "metadata": {},
   "outputs": [],
   "source": [
    "N=20\n",
    "x=rand(N)\n",
    "\n",
    "f=0.0;f_var=0.0\n",
    "for i in 1:N\n",
    "    f+=x[i]\n",
    "    f_var+= i>1 ? (i*x[i]-f).^2/(i*(i-1)) : f_var\n",
    "end"
   ]
  },
  {
   "cell_type": "code",
   "execution_count": 22,
   "id": "0adf7982-4177-4133-88b9-828a3751b41c",
   "metadata": {},
   "outputs": [
    {
     "data": {
      "text/plain": [
       "0.0"
      ]
     },
     "execution_count": 22,
     "metadata": {},
     "output_type": "execute_result"
    }
   ],
   "source": [
    "mean(x)-f/N"
   ]
  },
  {
   "cell_type": "code",
   "execution_count": 26,
   "id": "f1ca38f7-16e3-4301-9c53-746cfcb9e673",
   "metadata": {},
   "outputs": [
    {
     "data": {
      "text/plain": [
       "0.0"
      ]
     },
     "execution_count": 26,
     "metadata": {},
     "output_type": "execute_result"
    }
   ],
   "source": [
    "var(x)-f_var/(N-1)"
   ]
  }
 ],
 "metadata": {
  "kernelspec": {
   "display_name": "Julia 1.6.2",
   "language": "julia",
   "name": "julia-1.6"
  },
  "language_info": {
   "file_extension": ".jl",
   "mimetype": "application/julia",
   "name": "julia",
   "version": "1.6.3"
  }
 },
 "nbformat": 4,
 "nbformat_minor": 5
}
